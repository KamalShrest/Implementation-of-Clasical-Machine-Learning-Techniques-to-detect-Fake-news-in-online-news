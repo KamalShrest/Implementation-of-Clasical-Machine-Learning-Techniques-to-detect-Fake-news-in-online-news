{
 "cells": [
  {
   "cell_type": "code",
   "execution_count": 64,
   "metadata": {},
   "outputs": [],
   "source": [
    "import pandas as pd\n",
    "from numpy import dot\n",
    "from numpy.linalg import norm\n",
    "from collections import Counter\n",
    "from sklearn.feature_extraction.text import CountVectorizer\n",
    "from sklearn.feature_extraction.text import TfidfVectorizer\n",
    "\n",
    "#function to input the corpus and get dataframe as output\n",
    "def computeTFIDF(corpus):\n",
    "    vectorizer = CountVectorizer()\n",
    "\n",
    "\n",
    "    #Calculation of Term Frequency\n",
    "    X = vectorizer.fit_transform(corpus)\n",
    "    features=vectorizer.get_feature_names()#important features and words which are included in the document itself.\n",
    "\n",
    "    z=X.toarray()#Calculation of Term Frequency: which indicates that how many times are the feature words appearing in the document above eg: if after==[1] then it occurs in the given document\n",
    "    # print(z)\n",
    "\n",
    "\n",
    "    #Calculation of IDF\n",
    "    vectorizer1 = TfidfVectorizer(min_df=1)\n",
    "    X1 = vectorizer1.fit_transform(corpus)\n",
    "    idf = vectorizer1.idf_\n",
    "\n",
    "\n",
    "    print (features)\n",
    "    #Converting the TF_IDF to DataFrame in Pandas\n",
    "    df=pd.DataFrame(X1.toarray())\n",
    "    return df\n",
    "\n",
    "\n",
    "def computeCosineSim(df):\n",
    "    #Cosine Similarity is nothing but dot product of two vectors and calculation of cos(theta)\n",
    "    cos_sim = dot(df.loc[0].values, df.loc[1].values)/(norm(df.loc[0].values)*norm(df.loc[1].values))\n",
    "    return cos_sim"
   ]
  },
  {
   "cell_type": "code",
   "execution_count": 65,
   "metadata": {},
   "outputs": [
    {
     "name": "stdout",
     "output_type": "stream",
     "text": [
      "['against', 'and', 'did', 'finals', 'game', 'golden', 'guard', 'hamstring', 'klay', 'left', 'nba', 'not', 'of', 'on', 'per', 'rachel', 'raptors', 'report', 'return', 'shooting', 'star', 'state', 'sunday', 'team', 'the', 'thompson', 'tightness', 'told', 'toronto', 'versus', 'warriors', 'who', 'with']\n"
     ]
    },
    {
     "data": {
      "text/html": [
       "<div>\n",
       "<style scoped>\n",
       "    .dataframe tbody tr th:only-of-type {\n",
       "        vertical-align: middle;\n",
       "    }\n",
       "\n",
       "    .dataframe tbody tr th {\n",
       "        vertical-align: top;\n",
       "    }\n",
       "\n",
       "    .dataframe thead th {\n",
       "        text-align: right;\n",
       "    }\n",
       "</style>\n",
       "<table border=\"1\" class=\"dataframe\">\n",
       "  <thead>\n",
       "    <tr style=\"text-align: right;\">\n",
       "      <th></th>\n",
       "      <th>0</th>\n",
       "      <th>1</th>\n",
       "      <th>2</th>\n",
       "      <th>3</th>\n",
       "      <th>4</th>\n",
       "      <th>5</th>\n",
       "      <th>6</th>\n",
       "      <th>7</th>\n",
       "      <th>8</th>\n",
       "      <th>9</th>\n",
       "      <th>...</th>\n",
       "      <th>23</th>\n",
       "      <th>24</th>\n",
       "      <th>25</th>\n",
       "      <th>26</th>\n",
       "      <th>27</th>\n",
       "      <th>28</th>\n",
       "      <th>29</th>\n",
       "      <th>30</th>\n",
       "      <th>31</th>\n",
       "      <th>32</th>\n",
       "    </tr>\n",
       "  </thead>\n",
       "  <tbody>\n",
       "    <tr>\n",
       "      <th>0</th>\n",
       "      <td>0.000000</td>\n",
       "      <td>0.162538</td>\n",
       "      <td>0.162538</td>\n",
       "      <td>0.162538</td>\n",
       "      <td>0.162538</td>\n",
       "      <td>0.162538</td>\n",
       "      <td>0.228442</td>\n",
       "      <td>0.162538</td>\n",
       "      <td>0.162538</td>\n",
       "      <td>0.325077</td>\n",
       "      <td>...</td>\n",
       "      <td>0.000000</td>\n",
       "      <td>0.325077</td>\n",
       "      <td>0.162538</td>\n",
       "      <td>0.162538</td>\n",
       "      <td>0.228442</td>\n",
       "      <td>0.162538</td>\n",
       "      <td>0.228442</td>\n",
       "      <td>0.162538</td>\n",
       "      <td>0.228442</td>\n",
       "      <td>0.162538</td>\n",
       "    </tr>\n",
       "    <tr>\n",
       "      <th>1</th>\n",
       "      <td>0.222705</td>\n",
       "      <td>0.158456</td>\n",
       "      <td>0.158456</td>\n",
       "      <td>0.158456</td>\n",
       "      <td>0.158456</td>\n",
       "      <td>0.158456</td>\n",
       "      <td>0.000000</td>\n",
       "      <td>0.158456</td>\n",
       "      <td>0.158456</td>\n",
       "      <td>0.316913</td>\n",
       "      <td>...</td>\n",
       "      <td>0.222705</td>\n",
       "      <td>0.316913</td>\n",
       "      <td>0.158456</td>\n",
       "      <td>0.158456</td>\n",
       "      <td>0.000000</td>\n",
       "      <td>0.158456</td>\n",
       "      <td>0.000000</td>\n",
       "      <td>0.158456</td>\n",
       "      <td>0.000000</td>\n",
       "      <td>0.158456</td>\n",
       "    </tr>\n",
       "  </tbody>\n",
       "</table>\n",
       "<p>2 rows × 33 columns</p>\n",
       "</div>"
      ],
      "text/plain": [
       "         0         1         2         3         4         5         6   \\\n",
       "0  0.000000  0.162538  0.162538  0.162538  0.162538  0.162538  0.228442   \n",
       "1  0.222705  0.158456  0.158456  0.158456  0.158456  0.158456  0.000000   \n",
       "\n",
       "         7         8         9     ...           23        24        25  \\\n",
       "0  0.162538  0.162538  0.325077    ...     0.000000  0.325077  0.162538   \n",
       "1  0.158456  0.158456  0.316913    ...     0.222705  0.316913  0.158456   \n",
       "\n",
       "         26        27        28        29        30        31        32  \n",
       "0  0.162538  0.228442  0.162538  0.228442  0.162538  0.228442  0.162538  \n",
       "1  0.158456  0.000000  0.158456  0.000000  0.158456  0.000000  0.158456  \n",
       "\n",
       "[2 rows x 33 columns]"
      ]
     },
     "execution_count": 65,
     "metadata": {},
     "output_type": "execute_result"
    }
   ],
   "source": [
    "sentences=['Golden State Warriors  shooting guard  Klay Thompson , who left Game 2 of the NBA Finals versus the  Toronto Raptors  with  left hamstring tightness  and did not return, told  Rachel ...','Golden State Warriors  star  Klay Thompson  left Game 2 of the NBA Finals against the  Toronto Raptors  on Sunday with left hamstring tightness and did not return, per a  team report ...']\n",
    "df=computeTFIDF(sentences)\n",
    "df"
   ]
  },
  {
   "cell_type": "code",
   "execution_count": 66,
   "metadata": {},
   "outputs": [
    {
     "name": "stdout",
     "output_type": "stream",
     "text": [
      "0.6696353966944902\n"
     ]
    }
   ],
   "source": [
    "print (computeCosineSim(df))"
   ]
  },
  {
   "cell_type": "code",
   "execution_count": null,
   "metadata": {},
   "outputs": [],
   "source": []
  }
 ],
 "metadata": {
  "kernelspec": {
   "display_name": "Python 3",
   "language": "python",
   "name": "python3"
  },
  "language_info": {
   "codemirror_mode": {
    "name": "ipython",
    "version": 3
   },
   "file_extension": ".py",
   "mimetype": "text/x-python",
   "name": "python",
   "nbconvert_exporter": "python",
   "pygments_lexer": "ipython3",
   "version": "3.6.5"
  }
 },
 "nbformat": 4,
 "nbformat_minor": 2
}
