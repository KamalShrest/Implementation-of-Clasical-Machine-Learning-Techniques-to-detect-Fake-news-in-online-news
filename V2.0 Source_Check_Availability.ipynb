{
 "cells": [
  {
   "cell_type": "code",
   "execution_count": 1,
   "metadata": {},
   "outputs": [],
   "source": [
    "import pandas as pd \n",
    "import numpy as np"
   ]
  },
  {
   "cell_type": "code",
   "execution_count": 33,
   "metadata": {},
   "outputs": [
    {
     "data": {
      "text/plain": [
       "['mtv-news-uk',\n",
       " 'handelsblatt',\n",
       " 'reddit-r-all',\n",
       " 'vice-news',\n",
       " 'cnn',\n",
       " 'news24',\n",
       " 'news-com-au',\n",
       " 'metro',\n",
       " 'rt',\n",
       " 'polygon',\n",
       " 'ign',\n",
       " 'time',\n",
       " 'cbc-news',\n",
       " 'wired',\n",
       " 'bleacher-report',\n",
       " 'mirror',\n",
       " 'the-telegraph',\n",
       " 'info-money',\n",
       " 'nrk',\n",
       " 'cbs-news',\n",
       " 'bloomberg',\n",
       " 'globo',\n",
       " 'the-new-york-times',\n",
       " 'rbc',\n",
       " 'cnbc',\n",
       " 'the-verge',\n",
       " 'daily-mail',\n",
       " 'usa-today',\n",
       " 'infobae',\n",
       " 'the-wall-street-journal',\n",
       " 'fox-news',\n",
       " 'national-geographic',\n",
       " 'msnbc',\n",
       " 'fortune',\n",
       " 'independent',\n",
       " 'nbc-news',\n",
       " 'bbc-news',\n",
       " 'abc-news']"
      ]
     },
     "execution_count": 33,
     "metadata": {},
     "output_type": "execute_result"
    }
   ],
   "source": [
    "data=pd.read_csv(r\"C:\\Users\\pc\\Desktop\\Research_Fake NEWS\\Real.csv\")\n",
    "data_df=pd.DataFrame(data)\n",
    "sources=set(data['source/id'].values)\n",
    "sources_array=list(sources)\n",
    "sources_array"
   ]
  },
  {
   "cell_type": "code",
   "execution_count": 31,
   "metadata": {},
   "outputs": [],
   "source": [
    "def source_availability(random_source):\n",
    "    for i in range (len (sources_array)):\n",
    "        if (random_source==sources_array[i]):\n",
    "            print(\"Found\")\n",
    "            print (i)"
   ]
  },
  {
   "cell_type": "code",
   "execution_count": 32,
   "metadata": {},
   "outputs": [
    {
     "name": "stdout",
     "output_type": "stream",
     "text": [
      "Found\n",
      "4\n"
     ]
    }
   ],
   "source": [
    "source_availability('cnn')"
   ]
  },
  {
   "cell_type": "code",
   "execution_count": null,
   "metadata": {
    "scrolled": false
   },
   "outputs": [],
   "source": [
    "\n"
   ]
  },
  {
   "cell_type": "code",
   "execution_count": 16,
   "metadata": {},
   "outputs": [
    {
     "name": "stdout",
     "output_type": "stream",
     "text": [
      "yes\n"
     ]
    }
   ],
   "source": []
  },
  {
   "cell_type": "code",
   "execution_count": null,
   "metadata": {},
   "outputs": [],
   "source": []
  }
 ],
 "metadata": {
  "kernelspec": {
   "display_name": "Python 3",
   "language": "python",
   "name": "python3"
  },
  "language_info": {
   "codemirror_mode": {
    "name": "ipython",
    "version": 3
   },
   "file_extension": ".py",
   "mimetype": "text/x-python",
   "name": "python",
   "nbconvert_exporter": "python",
   "pygments_lexer": "ipython3",
   "version": "3.6.5"
  }
 },
 "nbformat": 4,
 "nbformat_minor": 2
}
